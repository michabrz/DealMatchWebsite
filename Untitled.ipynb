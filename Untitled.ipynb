{
 "cells": [
  {
   "cell_type": "code",
   "execution_count": 1,
   "id": "7b34ee96",
   "metadata": {},
   "outputs": [],
   "source": [
    "import pandas as pd"
   ]
  },
  {
   "cell_type": "code",
   "execution_count": 3,
   "id": "afe4ad9a",
   "metadata": {},
   "outputs": [],
   "source": [
    "df = pd.read_csv('sector_investors.csv',index_col=0,sep=';')"
   ]
  },
  {
   "cell_type": "code",
   "execution_count": 6,
   "id": "d8393da0",
   "metadata": {},
   "outputs": [
    {
     "data": {
      "text/html": [
       "<div>\n",
       "<style scoped>\n",
       "    .dataframe tbody tr th:only-of-type {\n",
       "        vertical-align: middle;\n",
       "    }\n",
       "\n",
       "    .dataframe tbody tr th {\n",
       "        vertical-align: top;\n",
       "    }\n",
       "\n",
       "    .dataframe thead th {\n",
       "        text-align: right;\n",
       "    }\n",
       "</style>\n",
       "<table border=\"1\" class=\"dataframe\">\n",
       "  <thead>\n",
       "    <tr style=\"text-align: right;\">\n",
       "      <th></th>\n",
       "      <th>company_id</th>\n",
       "      <th>name</th>\n",
       "      <th>sector_id</th>\n",
       "      <th>name_de</th>\n",
       "      <th>name.1</th>\n",
       "      <th>deal_stage_id</th>\n",
       "      <th>is_lost</th>\n",
       "      <th>target_revenue</th>\n",
       "      <th>target_ebitda</th>\n",
       "      <th>target_ebit</th>\n",
       "      <th>target_region_id</th>\n",
       "      <th>region</th>\n",
       "    </tr>\n",
       "    <tr>\n",
       "      <th>id</th>\n",
       "      <th></th>\n",
       "      <th></th>\n",
       "      <th></th>\n",
       "      <th></th>\n",
       "      <th></th>\n",
       "      <th></th>\n",
       "      <th></th>\n",
       "      <th></th>\n",
       "      <th></th>\n",
       "      <th></th>\n",
       "      <th></th>\n",
       "      <th></th>\n",
       "    </tr>\n",
       "  </thead>\n",
       "  <tbody>\n",
       "    <tr>\n",
       "      <th>28202</th>\n",
       "      <td>9633</td>\n",
       "      <td>Blue Star Group GmbH</td>\n",
       "      <td>25</td>\n",
       "      <td>Software Produkte</td>\n",
       "      <td>786 Analytics</td>\n",
       "      <td>2</td>\n",
       "      <td>1</td>\n",
       "      <td>2.1</td>\n",
       "      <td>-0.7</td>\n",
       "      <td>-0.7</td>\n",
       "      <td>1</td>\n",
       "      <td>Nordrhein-Westfalen</td>\n",
       "    </tr>\n",
       "  </tbody>\n",
       "</table>\n",
       "</div>"
      ],
      "text/plain": [
       "       company_id                  name  sector_id            name_de  \\\n",
       "id                                                                      \n",
       "28202        9633  Blue Star Group GmbH         25  Software Produkte   \n",
       "\n",
       "              name.1  deal_stage_id  is_lost  target_revenue  target_ebitda  \\\n",
       "id                                                                            \n",
       "28202  786 Analytics              2        1             2.1           -0.7   \n",
       "\n",
       "       target_ebit  target_region_id               region  \n",
       "id                                                         \n",
       "28202         -0.7                 1  Nordrhein-Westfalen  "
      ]
     },
     "execution_count": 6,
     "metadata": {},
     "output_type": "execute_result"
    }
   ],
   "source": [
    "df[df['name']=='Blue Star Group GmbH']"
   ]
  },
  {
   "cell_type": "code",
   "execution_count": 5,
   "id": "f24d8d79",
   "metadata": {},
   "outputs": [
    {
     "data": {
      "text/plain": [
       "369441.99000000005"
      ]
     },
     "execution_count": 5,
     "metadata": {},
     "output_type": "execute_result"
    }
   ],
   "source": [
    "df['target_revenue'].sum()"
   ]
  },
  {
   "cell_type": "code",
   "execution_count": 7,
   "id": "d161e7f8",
   "metadata": {},
   "outputs": [],
   "source": [
    "def create_frame(df, investor_name):\n",
    "    #frame_1 = df[df['deal_stage_id']>=4]\n",
    "    frame_1 = df\n",
    "    frame_2 = frame_1[['name', 'sector_id', 'name_de', 'target_revenue', 'target_ebitda', 'target_ebit', 'region']]\n",
    "    frame_3 = frame_2[frame_2['name'] == investor_name]\n",
    "    frame_4 = frame_3.groupby([frame_3['name_de']],as_index=False).agg({\n",
    "        'sector_id':\n",
    "        'count',\n",
    "        'target_revenue':\n",
    "        'median',\n",
    "        'target_ebitda':\n",
    "        'median'})\n",
    "    frame_4.rename(columns={'sector_id': 'sector_count'}, inplace=True)\n",
    "\n",
    "    return frame_4"
   ]
  },
  {
   "cell_type": "code",
   "execution_count": 9,
   "id": "03c11645",
   "metadata": {},
   "outputs": [
    {
     "data": {
      "text/html": [
       "<div>\n",
       "<style scoped>\n",
       "    .dataframe tbody tr th:only-of-type {\n",
       "        vertical-align: middle;\n",
       "    }\n",
       "\n",
       "    .dataframe tbody tr th {\n",
       "        vertical-align: top;\n",
       "    }\n",
       "\n",
       "    .dataframe thead th {\n",
       "        text-align: right;\n",
       "    }\n",
       "</style>\n",
       "<table border=\"1\" class=\"dataframe\">\n",
       "  <thead>\n",
       "    <tr style=\"text-align: right;\">\n",
       "      <th></th>\n",
       "      <th>name_de</th>\n",
       "      <th>sector_count</th>\n",
       "      <th>target_revenue</th>\n",
       "      <th>target_ebitda</th>\n",
       "    </tr>\n",
       "  </thead>\n",
       "  <tbody>\n",
       "    <tr>\n",
       "      <th>0</th>\n",
       "      <td>Automotive</td>\n",
       "      <td>1</td>\n",
       "      <td>7.8</td>\n",
       "      <td>0.60</td>\n",
       "    </tr>\n",
       "    <tr>\n",
       "      <th>1</th>\n",
       "      <td>Energie</td>\n",
       "      <td>1</td>\n",
       "      <td>12.5</td>\n",
       "      <td>1.20</td>\n",
       "    </tr>\n",
       "    <tr>\n",
       "      <th>2</th>\n",
       "      <td>Gesundheitswesen - Produkte &amp; Dienstleistungen</td>\n",
       "      <td>2</td>\n",
       "      <td>0.0</td>\n",
       "      <td>-0.10</td>\n",
       "    </tr>\n",
       "    <tr>\n",
       "      <th>3</th>\n",
       "      <td>Industrieautomation</td>\n",
       "      <td>1</td>\n",
       "      <td>0.0</td>\n",
       "      <td>0.00</td>\n",
       "    </tr>\n",
       "    <tr>\n",
       "      <th>4</th>\n",
       "      <td>Internet/ E-Commerce</td>\n",
       "      <td>1</td>\n",
       "      <td>2.0</td>\n",
       "      <td>1.30</td>\n",
       "    </tr>\n",
       "    <tr>\n",
       "      <th>5</th>\n",
       "      <td>Professionelle Dienstleistungen (B2B)</td>\n",
       "      <td>1</td>\n",
       "      <td>8.0</td>\n",
       "      <td>2.40</td>\n",
       "    </tr>\n",
       "    <tr>\n",
       "      <th>6</th>\n",
       "      <td>Software Produkte</td>\n",
       "      <td>3</td>\n",
       "      <td>1.6</td>\n",
       "      <td>0.35</td>\n",
       "    </tr>\n",
       "  </tbody>\n",
       "</table>\n",
       "</div>"
      ],
      "text/plain": [
       "                                          name_de  sector_count  \\\n",
       "0                                      Automotive             1   \n",
       "1                                         Energie             1   \n",
       "2  Gesundheitswesen - Produkte & Dienstleistungen             2   \n",
       "3                             Industrieautomation             1   \n",
       "4                            Internet/ E-Commerce             1   \n",
       "5           Professionelle Dienstleistungen (B2B)             1   \n",
       "6                               Software Produkte             3   \n",
       "\n",
       "   target_revenue  target_ebitda  \n",
       "0             7.8           0.60  \n",
       "1            12.5           1.20  \n",
       "2             0.0          -0.10  \n",
       "3             0.0           0.00  \n",
       "4             2.0           1.30  \n",
       "5             8.0           2.40  \n",
       "6             1.6           0.35  "
      ]
     },
     "execution_count": 9,
     "metadata": {},
     "output_type": "execute_result"
    }
   ],
   "source": [
    "create_frame(df,'Omnes Capital')"
   ]
  },
  {
   "cell_type": "code",
   "execution_count": null,
   "id": "72274c85",
   "metadata": {},
   "outputs": [],
   "source": []
  }
 ],
 "metadata": {
  "kernelspec": {
   "display_name": "Python 3 (ipykernel)",
   "language": "python",
   "name": "python3"
  },
  "language_info": {
   "codemirror_mode": {
    "name": "ipython",
    "version": 3
   },
   "file_extension": ".py",
   "mimetype": "text/x-python",
   "name": "python",
   "nbconvert_exporter": "python",
   "pygments_lexer": "ipython3",
   "version": "3.8.12"
  }
 },
 "nbformat": 4,
 "nbformat_minor": 5
}
